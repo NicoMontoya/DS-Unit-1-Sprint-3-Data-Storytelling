{
  "nbformat": 4,
  "nbformat_minor": 0,
  "metadata": {
    "colab": {
      "name": "DS_Unit_1_Sprint_Challenge_3_Data_Storytelling.ipynb",
      "version": "0.3.2",
      "provenance": [],
      "collapsed_sections": []
    },
    "kernelspec": {
      "display_name": "Python 3",
      "language": "python",
      "name": "python3"
    }
  },
  "cells": [
    {
      "metadata": {
        "colab_type": "text",
        "id": "i-n_5en3ER1o"
      },
      "cell_type": "markdown",
      "source": [
        "# Data Science Unit 1 Sprint Challenge 3\n",
        "\n",
        "# Data Storytelling\n",
        "\n",
        "In this sprint challenge you'll work with a dataset from **FiveThirtyEight's article, [Every Guest Jon Stewart Ever Had On ‘The Daily Show’](https://fivethirtyeight.com/features/every-guest-jon-stewart-ever-had-on-the-daily-show/)**!"
      ]
    },
    {
      "metadata": {
        "colab_type": "text",
        "id": "Thm2n5FF2Fnp"
      },
      "cell_type": "markdown",
      "source": [
        "# Part 0 — Run this starter code\n",
        "\n",
        "You don't need to add or change anything here. Just run this cell and it loads the data for you, into a dataframe named `df`.\n",
        "\n",
        "(You can explore the data if you want, but it's not required to pass the Sprint Challenge.)"
      ]
    },
    {
      "metadata": {
        "colab_type": "code",
        "id": "0rTHgzJIuRS7",
        "colab": {}
      },
      "cell_type": "code",
      "source": [
        "%matplotlib inline\n",
        "import matplotlib.pyplot as plt\n",
        "import numpy as np\n",
        "import pandas as pd\n",
        "\n",
        "url = 'https://raw.githubusercontent.com/fivethirtyeight/data/master/daily-show-guests/daily_show_guests.csv'\n",
        "df = pd.read_csv(url).rename(columns={'YEAR': 'Year', 'Raw_Guest_List': 'Guest'})\n",
        "\n",
        "def get_occupation(group):\n",
        "    if group in ['Acting', 'Comedy', 'Musician']:\n",
        "        return 'Acting, Comedy & Music'\n",
        "    elif group in ['Media', 'media']:\n",
        "        return 'Media'\n",
        "    elif group in ['Government', 'Politician', 'Political Aide']:\n",
        "        return 'Government and Politics'\n",
        "    else:\n",
        "        return 'Other'\n",
        "      \n",
        "df['Occupation'] = df['Group'].apply(get_occupation)"
      ],
      "execution_count": 0,
      "outputs": []
    },
    {
      "metadata": {
        "id": "RxxHdmYOBu77",
        "colab_type": "code",
        "colab": {
          "base_uri": "https://localhost:8080/",
          "height": 204
        },
        "outputId": "59e36d32-5ca1-4e10-cb4c-d5ad86cb155e"
      },
      "cell_type": "code",
      "source": [
        "df.head()"
      ],
      "execution_count": 2,
      "outputs": [
        {
          "output_type": "execute_result",
          "data": {
            "text/html": [
              "<div>\n",
              "<style scoped>\n",
              "    .dataframe tbody tr th:only-of-type {\n",
              "        vertical-align: middle;\n",
              "    }\n",
              "\n",
              "    .dataframe tbody tr th {\n",
              "        vertical-align: top;\n",
              "    }\n",
              "\n",
              "    .dataframe thead th {\n",
              "        text-align: right;\n",
              "    }\n",
              "</style>\n",
              "<table border=\"1\" class=\"dataframe\">\n",
              "  <thead>\n",
              "    <tr style=\"text-align: right;\">\n",
              "      <th></th>\n",
              "      <th>Year</th>\n",
              "      <th>GoogleKnowlege_Occupation</th>\n",
              "      <th>Show</th>\n",
              "      <th>Group</th>\n",
              "      <th>Guest</th>\n",
              "      <th>Occupation</th>\n",
              "    </tr>\n",
              "  </thead>\n",
              "  <tbody>\n",
              "    <tr>\n",
              "      <th>0</th>\n",
              "      <td>1999</td>\n",
              "      <td>actor</td>\n",
              "      <td>1/11/99</td>\n",
              "      <td>Acting</td>\n",
              "      <td>Michael J. Fox</td>\n",
              "      <td>Acting, Comedy &amp; Music</td>\n",
              "    </tr>\n",
              "    <tr>\n",
              "      <th>1</th>\n",
              "      <td>1999</td>\n",
              "      <td>Comedian</td>\n",
              "      <td>1/12/99</td>\n",
              "      <td>Comedy</td>\n",
              "      <td>Sandra Bernhard</td>\n",
              "      <td>Acting, Comedy &amp; Music</td>\n",
              "    </tr>\n",
              "    <tr>\n",
              "      <th>2</th>\n",
              "      <td>1999</td>\n",
              "      <td>television actress</td>\n",
              "      <td>1/13/99</td>\n",
              "      <td>Acting</td>\n",
              "      <td>Tracey Ullman</td>\n",
              "      <td>Acting, Comedy &amp; Music</td>\n",
              "    </tr>\n",
              "    <tr>\n",
              "      <th>3</th>\n",
              "      <td>1999</td>\n",
              "      <td>film actress</td>\n",
              "      <td>1/14/99</td>\n",
              "      <td>Acting</td>\n",
              "      <td>Gillian Anderson</td>\n",
              "      <td>Acting, Comedy &amp; Music</td>\n",
              "    </tr>\n",
              "    <tr>\n",
              "      <th>4</th>\n",
              "      <td>1999</td>\n",
              "      <td>actor</td>\n",
              "      <td>1/18/99</td>\n",
              "      <td>Acting</td>\n",
              "      <td>David Alan Grier</td>\n",
              "      <td>Acting, Comedy &amp; Music</td>\n",
              "    </tr>\n",
              "  </tbody>\n",
              "</table>\n",
              "</div>"
            ],
            "text/plain": [
              "   Year GoogleKnowlege_Occupation     Show   Group             Guest  \\\n",
              "0  1999                     actor  1/11/99  Acting    Michael J. Fox   \n",
              "1  1999                  Comedian  1/12/99  Comedy   Sandra Bernhard   \n",
              "2  1999        television actress  1/13/99  Acting     Tracey Ullman   \n",
              "3  1999              film actress  1/14/99  Acting  Gillian Anderson   \n",
              "4  1999                     actor  1/18/99  Acting  David Alan Grier   \n",
              "\n",
              "               Occupation  \n",
              "0  Acting, Comedy & Music  \n",
              "1  Acting, Comedy & Music  \n",
              "2  Acting, Comedy & Music  \n",
              "3  Acting, Comedy & Music  \n",
              "4  Acting, Comedy & Music  "
            ]
          },
          "metadata": {
            "tags": []
          },
          "execution_count": 2
        }
      ]
    },
    {
      "metadata": {
        "id": "qdoT3PWgByo0",
        "colab_type": "code",
        "colab": {
          "base_uri": "https://localhost:8080/",
          "height": 34
        },
        "outputId": "6b38739f-d38a-4e5c-a331-ba0c70dd64e8"
      },
      "cell_type": "code",
      "source": [
        "df.shape"
      ],
      "execution_count": 3,
      "outputs": [
        {
          "output_type": "execute_result",
          "data": {
            "text/plain": [
              "(2693, 6)"
            ]
          },
          "metadata": {
            "tags": []
          },
          "execution_count": 3
        }
      ]
    },
    {
      "metadata": {
        "id": "cHzu05KTB0TD",
        "colab_type": "code",
        "colab": {
          "base_uri": "https://localhost:8080/",
          "height": 136
        },
        "outputId": "f6bc34d5-badd-423b-e3d1-405423a0c0ec"
      },
      "cell_type": "code",
      "source": [
        "df.dtypes"
      ],
      "execution_count": 4,
      "outputs": [
        {
          "output_type": "execute_result",
          "data": {
            "text/plain": [
              "Year                          int64\n",
              "GoogleKnowlege_Occupation    object\n",
              "Show                         object\n",
              "Group                        object\n",
              "Guest                        object\n",
              "Occupation                   object\n",
              "dtype: object"
            ]
          },
          "metadata": {
            "tags": []
          },
          "execution_count": 4
        }
      ]
    },
    {
      "metadata": {
        "id": "9-vBDVXCCHCS",
        "colab_type": "code",
        "colab": {
          "base_uri": "https://localhost:8080/",
          "height": 119
        },
        "outputId": "5908cb8f-f52c-43a1-acef-701660ebc83e"
      },
      "cell_type": "code",
      "source": [
        "df['Guest'].value_counts().head()"
      ],
      "execution_count": 5,
      "outputs": [
        {
          "output_type": "execute_result",
          "data": {
            "text/plain": [
              "Fareed Zakaria    19\n",
              "Denis Leary       17\n",
              "Brian Williams    16\n",
              "Paul Rudd         13\n",
              "Ricky Gervais     13\n",
              "Name: Guest, dtype: int64"
            ]
          },
          "metadata": {
            "tags": []
          },
          "execution_count": 5
        }
      ]
    },
    {
      "metadata": {
        "id": "JXgaF8hsC5Cc",
        "colab_type": "code",
        "colab": {
          "base_uri": "https://localhost:8080/",
          "height": 323
        },
        "outputId": "21694a12-16e3-4b66-9241-1cb9a5b972a0"
      },
      "cell_type": "code",
      "source": [
        "df['Year'].value_counts().sort_values()"
      ],
      "execution_count": 6,
      "outputs": [
        {
          "output_type": "execute_result",
          "data": {
            "text/plain": [
              "2015    100\n",
              "2007    141\n",
              "2001    157\n",
              "2002    159\n",
              "2006    161\n",
              "2005    162\n",
              "2014    163\n",
              "2011    163\n",
              "2009    163\n",
              "2008    164\n",
              "2012    164\n",
              "2004    164\n",
              "2010    165\n",
              "1999    166\n",
              "2013    166\n",
              "2003    166\n",
              "2000    169\n",
              "Name: Year, dtype: int64"
            ]
          },
          "metadata": {
            "tags": []
          },
          "execution_count": 6
        }
      ]
    },
    {
      "metadata": {
        "id": "L3JqVvDSDjaj",
        "colab_type": "code",
        "colab": {}
      },
      "cell_type": "code",
      "source": [
        "df['Show'] = pd.to_datetime(df['Show'])"
      ],
      "execution_count": 0,
      "outputs": []
    },
    {
      "metadata": {
        "id": "ghcaycRTD-4_",
        "colab_type": "code",
        "colab": {
          "base_uri": "https://localhost:8080/",
          "height": 136
        },
        "outputId": "ab22ea1f-0439-43a0-e15d-b27c9f14706e"
      },
      "cell_type": "code",
      "source": [
        "df.dtypes"
      ],
      "execution_count": 8,
      "outputs": [
        {
          "output_type": "execute_result",
          "data": {
            "text/plain": [
              "Year                                  int64\n",
              "GoogleKnowlege_Occupation            object\n",
              "Show                         datetime64[ns]\n",
              "Group                                object\n",
              "Guest                                object\n",
              "Occupation                           object\n",
              "dtype: object"
            ]
          },
          "metadata": {
            "tags": []
          },
          "execution_count": 8
        }
      ]
    },
    {
      "metadata": {
        "id": "rdOT9fC2EDf2",
        "colab_type": "code",
        "colab": {
          "base_uri": "https://localhost:8080/",
          "height": 297
        },
        "outputId": "5a2df1cc-ba99-4175-f882-4fa98c47ce85"
      },
      "cell_type": "code",
      "source": [
        "df.describe()"
      ],
      "execution_count": 9,
      "outputs": [
        {
          "output_type": "execute_result",
          "data": {
            "text/html": [
              "<div>\n",
              "<style scoped>\n",
              "    .dataframe tbody tr th:only-of-type {\n",
              "        vertical-align: middle;\n",
              "    }\n",
              "\n",
              "    .dataframe tbody tr th {\n",
              "        vertical-align: top;\n",
              "    }\n",
              "\n",
              "    .dataframe thead th {\n",
              "        text-align: right;\n",
              "    }\n",
              "</style>\n",
              "<table border=\"1\" class=\"dataframe\">\n",
              "  <thead>\n",
              "    <tr style=\"text-align: right;\">\n",
              "      <th></th>\n",
              "      <th>Year</th>\n",
              "    </tr>\n",
              "  </thead>\n",
              "  <tbody>\n",
              "    <tr>\n",
              "      <th>count</th>\n",
              "      <td>2693.000000</td>\n",
              "    </tr>\n",
              "    <tr>\n",
              "      <th>mean</th>\n",
              "      <td>2006.816190</td>\n",
              "    </tr>\n",
              "    <tr>\n",
              "      <th>std</th>\n",
              "      <td>4.828177</td>\n",
              "    </tr>\n",
              "    <tr>\n",
              "      <th>min</th>\n",
              "      <td>1999.000000</td>\n",
              "    </tr>\n",
              "    <tr>\n",
              "      <th>25%</th>\n",
              "      <td>2003.000000</td>\n",
              "    </tr>\n",
              "    <tr>\n",
              "      <th>50%</th>\n",
              "      <td>2007.000000</td>\n",
              "    </tr>\n",
              "    <tr>\n",
              "      <th>75%</th>\n",
              "      <td>2011.000000</td>\n",
              "    </tr>\n",
              "    <tr>\n",
              "      <th>max</th>\n",
              "      <td>2015.000000</td>\n",
              "    </tr>\n",
              "  </tbody>\n",
              "</table>\n",
              "</div>"
            ],
            "text/plain": [
              "              Year\n",
              "count  2693.000000\n",
              "mean   2006.816190\n",
              "std       4.828177\n",
              "min    1999.000000\n",
              "25%    2003.000000\n",
              "50%    2007.000000\n",
              "75%    2011.000000\n",
              "max    2015.000000"
            ]
          },
          "metadata": {
            "tags": []
          },
          "execution_count": 9
        }
      ]
    },
    {
      "metadata": {
        "id": "kBz3W2bCELMQ",
        "colab_type": "code",
        "colab": {
          "base_uri": "https://localhost:8080/",
          "height": 235
        },
        "outputId": "3b2861d0-47ea-4489-d677-7b6ae40a9308"
      },
      "cell_type": "code",
      "source": [
        "df.describe(exclude=np.number)"
      ],
      "execution_count": 10,
      "outputs": [
        {
          "output_type": "execute_result",
          "data": {
            "text/html": [
              "<div>\n",
              "<style scoped>\n",
              "    .dataframe tbody tr th:only-of-type {\n",
              "        vertical-align: middle;\n",
              "    }\n",
              "\n",
              "    .dataframe tbody tr th {\n",
              "        vertical-align: top;\n",
              "    }\n",
              "\n",
              "    .dataframe thead th {\n",
              "        text-align: right;\n",
              "    }\n",
              "</style>\n",
              "<table border=\"1\" class=\"dataframe\">\n",
              "  <thead>\n",
              "    <tr style=\"text-align: right;\">\n",
              "      <th></th>\n",
              "      <th>GoogleKnowlege_Occupation</th>\n",
              "      <th>Show</th>\n",
              "      <th>Group</th>\n",
              "      <th>Guest</th>\n",
              "      <th>Occupation</th>\n",
              "    </tr>\n",
              "  </thead>\n",
              "  <tbody>\n",
              "    <tr>\n",
              "      <th>count</th>\n",
              "      <td>2667</td>\n",
              "      <td>2693</td>\n",
              "      <td>2662</td>\n",
              "      <td>2693</td>\n",
              "      <td>2693</td>\n",
              "    </tr>\n",
              "    <tr>\n",
              "      <th>unique</th>\n",
              "      <td>398</td>\n",
              "      <td>2639</td>\n",
              "      <td>17</td>\n",
              "      <td>1669</td>\n",
              "      <td>4</td>\n",
              "    </tr>\n",
              "    <tr>\n",
              "      <th>top</th>\n",
              "      <td>actor</td>\n",
              "      <td>2013-12-18 00:00:00</td>\n",
              "      <td>Acting</td>\n",
              "      <td>Fareed Zakaria</td>\n",
              "      <td>Acting, Comedy &amp; Music</td>\n",
              "    </tr>\n",
              "    <tr>\n",
              "      <th>freq</th>\n",
              "      <td>596</td>\n",
              "      <td>3</td>\n",
              "      <td>930</td>\n",
              "      <td>19</td>\n",
              "      <td>1203</td>\n",
              "    </tr>\n",
              "    <tr>\n",
              "      <th>first</th>\n",
              "      <td>NaN</td>\n",
              "      <td>1999-01-11 00:00:00</td>\n",
              "      <td>NaN</td>\n",
              "      <td>NaN</td>\n",
              "      <td>NaN</td>\n",
              "    </tr>\n",
              "    <tr>\n",
              "      <th>last</th>\n",
              "      <td>NaN</td>\n",
              "      <td>2015-08-05 00:00:00</td>\n",
              "      <td>NaN</td>\n",
              "      <td>NaN</td>\n",
              "      <td>NaN</td>\n",
              "    </tr>\n",
              "  </tbody>\n",
              "</table>\n",
              "</div>"
            ],
            "text/plain": [
              "       GoogleKnowlege_Occupation                 Show   Group           Guest  \\\n",
              "count                       2667                 2693    2662            2693   \n",
              "unique                       398                 2639      17            1669   \n",
              "top                        actor  2013-12-18 00:00:00  Acting  Fareed Zakaria   \n",
              "freq                         596                    3     930              19   \n",
              "first                        NaN  1999-01-11 00:00:00     NaN             NaN   \n",
              "last                         NaN  2015-08-05 00:00:00     NaN             NaN   \n",
              "\n",
              "                    Occupation  \n",
              "count                     2693  \n",
              "unique                       4  \n",
              "top     Acting, Comedy & Music  \n",
              "freq                      1203  \n",
              "first                      NaN  \n",
              "last                       NaN  "
            ]
          },
          "metadata": {
            "tags": []
          },
          "execution_count": 10
        }
      ]
    },
    {
      "metadata": {
        "id": "w5A60ygeEZ4z",
        "colab_type": "code",
        "colab": {
          "base_uri": "https://localhost:8080/",
          "height": 136
        },
        "outputId": "7e991537-ad5d-41cc-afaf-722e78d8f442"
      },
      "cell_type": "code",
      "source": [
        "df.isnull().sum()"
      ],
      "execution_count": 11,
      "outputs": [
        {
          "output_type": "execute_result",
          "data": {
            "text/plain": [
              "Year                          0\n",
              "GoogleKnowlege_Occupation    26\n",
              "Show                          0\n",
              "Group                        31\n",
              "Guest                         0\n",
              "Occupation                    0\n",
              "dtype: int64"
            ]
          },
          "metadata": {
            "tags": []
          },
          "execution_count": 11
        }
      ]
    },
    {
      "metadata": {
        "colab_type": "text",
        "id": "OS0nW1vz1itX"
      },
      "cell_type": "markdown",
      "source": [
        "# Part 1 — What's the breakdown of guests’ occupations per year?\n",
        "\n",
        "For example, in 1999, what percentage of guests were actors, comedians, or musicians? What percentage were in the media? What percentage were in politics? What percentage were from another occupation?\n",
        "\n",
        "Then, what about in 2000? In 2001? And so on, up through 2015.\n",
        "\n",
        "So, **for each year of _The Daily Show_, calculate the percentage of guests from each occupation:**\n",
        "- Acting, Comedy & Music\n",
        "- Government and Politics\n",
        "- Media\n",
        "- Other\n",
        "\n",
        "#### Hints:\n",
        "You can make a crosstab. (See pandas documentation for examples, explanation, and parameters.)\n",
        "\n",
        "You'll know you've calculated correctly when the percentage of \"Acting, Comedy & Music\" guests is 90.36% in 1999, and 45% in 2015.\n",
        "\n",
        "**Optional Bonus Challenge:** Do additional insightful data exploration."
      ]
    },
    {
      "metadata": {
        "colab_type": "code",
        "id": "sRMc0H_5z6ff",
        "colab": {
          "base_uri": "https://localhost:8080/",
          "height": 607
        },
        "outputId": "8533a9aa-84e9-4e5e-ae5e-a708e3182f06"
      },
      "cell_type": "code",
      "source": [
        "## Percentage of guests from each occupation by Year\n",
        "\n",
        "ct = pd.crosstab(df['Year'], df['Occupation'], values=df['Guest'], aggfunc='count', normalize='index')\n",
        "ct"
      ],
      "execution_count": 12,
      "outputs": [
        {
          "output_type": "execute_result",
          "data": {
            "text/html": [
              "<div>\n",
              "<style scoped>\n",
              "    .dataframe tbody tr th:only-of-type {\n",
              "        vertical-align: middle;\n",
              "    }\n",
              "\n",
              "    .dataframe tbody tr th {\n",
              "        vertical-align: top;\n",
              "    }\n",
              "\n",
              "    .dataframe thead th {\n",
              "        text-align: right;\n",
              "    }\n",
              "</style>\n",
              "<table border=\"1\" class=\"dataframe\">\n",
              "  <thead>\n",
              "    <tr style=\"text-align: right;\">\n",
              "      <th>Occupation</th>\n",
              "      <th>Acting, Comedy &amp; Music</th>\n",
              "      <th>Government and Politics</th>\n",
              "      <th>Media</th>\n",
              "      <th>Other</th>\n",
              "    </tr>\n",
              "    <tr>\n",
              "      <th>Year</th>\n",
              "      <th></th>\n",
              "      <th></th>\n",
              "      <th></th>\n",
              "      <th></th>\n",
              "    </tr>\n",
              "  </thead>\n",
              "  <tbody>\n",
              "    <tr>\n",
              "      <th>1999</th>\n",
              "      <td>0.903614</td>\n",
              "      <td>0.012048</td>\n",
              "      <td>0.066265</td>\n",
              "      <td>0.018072</td>\n",
              "    </tr>\n",
              "    <tr>\n",
              "      <th>2000</th>\n",
              "      <td>0.739645</td>\n",
              "      <td>0.082840</td>\n",
              "      <td>0.124260</td>\n",
              "      <td>0.053254</td>\n",
              "    </tr>\n",
              "    <tr>\n",
              "      <th>2001</th>\n",
              "      <td>0.726115</td>\n",
              "      <td>0.038217</td>\n",
              "      <td>0.197452</td>\n",
              "      <td>0.038217</td>\n",
              "    </tr>\n",
              "    <tr>\n",
              "      <th>2002</th>\n",
              "      <td>0.622642</td>\n",
              "      <td>0.069182</td>\n",
              "      <td>0.264151</td>\n",
              "      <td>0.044025</td>\n",
              "    </tr>\n",
              "    <tr>\n",
              "      <th>2003</th>\n",
              "      <td>0.560241</td>\n",
              "      <td>0.102410</td>\n",
              "      <td>0.246988</td>\n",
              "      <td>0.090361</td>\n",
              "    </tr>\n",
              "    <tr>\n",
              "      <th>2004</th>\n",
              "      <td>0.384146</td>\n",
              "      <td>0.225610</td>\n",
              "      <td>0.274390</td>\n",
              "      <td>0.115854</td>\n",
              "    </tr>\n",
              "    <tr>\n",
              "      <th>2005</th>\n",
              "      <td>0.370370</td>\n",
              "      <td>0.160494</td>\n",
              "      <td>0.333333</td>\n",
              "      <td>0.135802</td>\n",
              "    </tr>\n",
              "    <tr>\n",
              "      <th>2006</th>\n",
              "      <td>0.360248</td>\n",
              "      <td>0.192547</td>\n",
              "      <td>0.291925</td>\n",
              "      <td>0.155280</td>\n",
              "    </tr>\n",
              "    <tr>\n",
              "      <th>2007</th>\n",
              "      <td>0.255319</td>\n",
              "      <td>0.170213</td>\n",
              "      <td>0.333333</td>\n",
              "      <td>0.241135</td>\n",
              "    </tr>\n",
              "    <tr>\n",
              "      <th>2008</th>\n",
              "      <td>0.207317</td>\n",
              "      <td>0.201220</td>\n",
              "      <td>0.469512</td>\n",
              "      <td>0.121951</td>\n",
              "    </tr>\n",
              "    <tr>\n",
              "      <th>2009</th>\n",
              "      <td>0.208589</td>\n",
              "      <td>0.208589</td>\n",
              "      <td>0.361963</td>\n",
              "      <td>0.220859</td>\n",
              "    </tr>\n",
              "    <tr>\n",
              "      <th>2010</th>\n",
              "      <td>0.351515</td>\n",
              "      <td>0.181818</td>\n",
              "      <td>0.303030</td>\n",
              "      <td>0.163636</td>\n",
              "    </tr>\n",
              "    <tr>\n",
              "      <th>2011</th>\n",
              "      <td>0.337423</td>\n",
              "      <td>0.165644</td>\n",
              "      <td>0.312883</td>\n",
              "      <td>0.184049</td>\n",
              "    </tr>\n",
              "    <tr>\n",
              "      <th>2012</th>\n",
              "      <td>0.268293</td>\n",
              "      <td>0.201220</td>\n",
              "      <td>0.317073</td>\n",
              "      <td>0.213415</td>\n",
              "    </tr>\n",
              "    <tr>\n",
              "      <th>2013</th>\n",
              "      <td>0.427711</td>\n",
              "      <td>0.126506</td>\n",
              "      <td>0.307229</td>\n",
              "      <td>0.138554</td>\n",
              "    </tr>\n",
              "    <tr>\n",
              "      <th>2014</th>\n",
              "      <td>0.392638</td>\n",
              "      <td>0.128834</td>\n",
              "      <td>0.325153</td>\n",
              "      <td>0.153374</td>\n",
              "    </tr>\n",
              "    <tr>\n",
              "      <th>2015</th>\n",
              "      <td>0.450000</td>\n",
              "      <td>0.170000</td>\n",
              "      <td>0.240000</td>\n",
              "      <td>0.140000</td>\n",
              "    </tr>\n",
              "  </tbody>\n",
              "</table>\n",
              "</div>"
            ],
            "text/plain": [
              "Occupation  Acting, Comedy & Music  Government and Politics     Media  \\\n",
              "Year                                                                    \n",
              "1999                      0.903614                 0.012048  0.066265   \n",
              "2000                      0.739645                 0.082840  0.124260   \n",
              "2001                      0.726115                 0.038217  0.197452   \n",
              "2002                      0.622642                 0.069182  0.264151   \n",
              "2003                      0.560241                 0.102410  0.246988   \n",
              "2004                      0.384146                 0.225610  0.274390   \n",
              "2005                      0.370370                 0.160494  0.333333   \n",
              "2006                      0.360248                 0.192547  0.291925   \n",
              "2007                      0.255319                 0.170213  0.333333   \n",
              "2008                      0.207317                 0.201220  0.469512   \n",
              "2009                      0.208589                 0.208589  0.361963   \n",
              "2010                      0.351515                 0.181818  0.303030   \n",
              "2011                      0.337423                 0.165644  0.312883   \n",
              "2012                      0.268293                 0.201220  0.317073   \n",
              "2013                      0.427711                 0.126506  0.307229   \n",
              "2014                      0.392638                 0.128834  0.325153   \n",
              "2015                      0.450000                 0.170000  0.240000   \n",
              "\n",
              "Occupation     Other  \n",
              "Year                  \n",
              "1999        0.018072  \n",
              "2000        0.053254  \n",
              "2001        0.038217  \n",
              "2002        0.044025  \n",
              "2003        0.090361  \n",
              "2004        0.115854  \n",
              "2005        0.135802  \n",
              "2006        0.155280  \n",
              "2007        0.241135  \n",
              "2008        0.121951  \n",
              "2009        0.220859  \n",
              "2010        0.163636  \n",
              "2011        0.184049  \n",
              "2012        0.213415  \n",
              "2013        0.138554  \n",
              "2014        0.153374  \n",
              "2015        0.140000  "
            ]
          },
          "metadata": {
            "tags": []
          },
          "execution_count": 12
        }
      ]
    },
    {
      "metadata": {
        "colab_type": "text",
        "id": "Nqf9oJJDDu-d"
      },
      "cell_type": "markdown",
      "source": [
        "# Part 2 — Recreate this explanatory visualization:"
      ]
    },
    {
      "metadata": {
        "colab_type": "code",
        "id": "scozkHQc0_eD",
        "outputId": "88eb3a17-f754-44cd-f522-6a7a0e8adf0c",
        "colab": {
          "base_uri": "https://localhost:8080/",
          "height": 406
        }
      },
      "cell_type": "code",
      "source": [
        "from IPython.display import display, Image\n",
        "png = 'https://fivethirtyeight.com/wp-content/uploads/2015/08/hickey-datalab-dailyshow.png'\n",
        "example = Image(png, width=500)\n",
        "display(example)"
      ],
      "execution_count": 13,
      "outputs": [
        {
          "output_type": "display_data",
          "data": {
            "image/png": "[encoded data removed]",
            "text/plain": [
              "<IPython.core.display.Image object>"
            ]
          },
          "metadata": {
            "tags": [],
            "image/png": {
              "width": 500
            }
          }
        }
      ]
    },
    {
      "metadata": {
        "colab_type": "text",
        "id": "W7lw3JzAE6BJ"
      },
      "cell_type": "markdown",
      "source": [
        "**Hints:**\n",
        "- You can choose any Python visualization library you want. I've verified the plot can be reproduced with matplotlib, pandas plot, or seaborn. I assume other libraries like altair or plotly would work too.\n",
        "- If you choose to use seaborn, you may want to upgrade the version to 0.9.0.\n",
        "\n",
        "**Expectations:** Your plot should include:\n",
        "- 3 lines visualizing \"occupation of guests, by year.\" The shapes of the lines should look roughly identical to 538's example. Each line should be a different color. (But you don't need to use the _same_ colors as 538.)\n",
        "- Legend or labels for the lines. (But you don't need each label positioned next to its line or colored like 538.)\n",
        "- Title in the upper left: _\"Who Got To Be On 'The Daily Show'?\"_ with more visual emphasis than the subtitle. (Bolder and/or larger font.)\n",
        "- Subtitle underneath the title: _\"Occupation of guests, by year\"_\n",
        "\n",
        "**Optional Bonus Challenge:**\n",
        "- Give your plot polished aesthetics, with improved resemblance to the 538 example.\n",
        "- Any visual element not specifically mentioned in the expectations is an optional bonus."
      ]
    },
    {
      "metadata": {
        "colab_type": "code",
        "id": "E8XBAr8rz_Na",
        "colab": {}
      },
      "cell_type": "code",
      "source": [
        "ct = ct.drop(columns='Other')\n"
      ],
      "execution_count": 0,
      "outputs": []
    },
    {
      "metadata": {
        "id": "7vgfxB_KJEJV",
        "colab_type": "code",
        "colab": {
          "base_uri": "https://localhost:8080/",
          "height": 284
        },
        "outputId": "2167e5f8-ad49-42e9-cb83-a4f90fc9a0d7"
      },
      "cell_type": "code",
      "source": [
        "plt.style.use('fivethirtyeight')\n",
        "\n",
        "ax = ct.plot.line(color=['#1f99ff','r','#67008f'], lw=2)\n",
        "\n",
        "\n",
        "\n",
        "plt.title(\"Who Got To Be On 'The Daily Show'?\", fontdict={\n",
        "    'fontsize': 14,\n",
        "    'fontweight' : 'bold',\n",
        "    'verticalalignment': 'bottom',\n",
        "    'horizontalalignment': 'right'})\n",
        "plt.text(.27,.96,s=\"Occupation of guests, by year\", fontdict={\n",
        "    'fontsize': 12,\n",
        "    'fontweight' : 'normal',\n",
        "    'verticalalignment': 'bottom',\n",
        "    'horizontalalignment': 'right'}, transform=ax.transAxes)\n",
        "\n",
        "plt.text(.50,.80,s=\"Acting, Comedy & Music\", fontdict={\n",
        "    'fontsize': 11,\n",
        "    'fontweight' : 'bold',\n",
        "    'color': '#1f99ff',\n",
        "    'verticalalignment': 'bottom',\n",
        "    'horizontalalignment': 'right'}, transform=ax.transAxes)\n",
        "\n",
        "plt.text(.95,.1,s=\"Government and Poliitics\", fontdict={\n",
        "    'fontsize': 11,\n",
        "    'fontweight' : 'bold',\n",
        "    'color': 'r',\n",
        "    'verticalalignment': 'bottom',\n",
        "    'horizontalalignment': 'right'}, transform=ax.transAxes)\n",
        "\n",
        "plt.text(.60,.55,s=\"Media\", fontdict={\n",
        "    'fontsize': 11,\n",
        "    'fontweight' : 'bold',\n",
        "    'color': '#67008f',\n",
        "    'verticalalignment': 'bottom',\n",
        "    'horizontalalignment': 'right'}, transform=ax.transAxes)\n",
        "\n",
        "ax.get_legend().remove()\n",
        "ax.axes.get_xaxis().set_visible(False)\n",
        "vals = ax.get_yticks()\n",
        "ax.set_yticklabels(['{:,.2%}'.format(x) for x in vals]);"
      ],
      "execution_count": 111,
      "outputs": [
        {
          "output_type": "display_data",
          "data": {
            "image/png": "[encoded data removed]",
            "text/plain": [
              "<Figure size 432x288 with 1 Axes>"
            ]
          },
          "metadata": {
            "tags": []
          }
        }
      ]
    },
    {
      "metadata": {
        "colab_type": "text",
        "id": "LuacMjSf2ses"
      },
      "cell_type": "markdown",
      "source": [
        "# Part 3 — Who were the top 10 guests on _The Daily Show_?\n",
        "\n",
        "**Make a plot** that shows their names and number of appearances.\n",
        "\n",
        "**Add a title** of your choice.\n",
        "\n",
        "**Expectations:** It's ok to make a simple, quick plot: exploratory, instead of explanatory. \n",
        "\n",
        "**Optional Bonus Challenge:** You can change aesthetics and add more annotation. For example, in a relevant location, could you add the text \"19\" to show that Fareed Zakaria appeared 19 times on _The Daily Show_? (And so on, for each of the top 10 guests.)"
      ]
    },
    {
      "metadata": {
        "colab_type": "code",
        "id": "tbwfBN3HsFlh",
        "colab": {}
      },
      "cell_type": "code",
      "source": [
        "top10 = df.groupby('Guest')['Year'].count().sort_values().tail(10)"
      ],
      "execution_count": 0,
      "outputs": []
    },
    {
      "metadata": {
        "id": "7cdZ3fC3R8C6",
        "colab_type": "code",
        "colab": {
          "base_uri": "https://localhost:8080/",
          "height": 319
        },
        "outputId": "e7eb7a18-f527-4cc4-c3a7-8479f5695676"
      },
      "cell_type": "code",
      "source": [
        "ax = top10.plot.barh(color='C1')\n",
        "\n",
        "plt.title('Guests with most appearances')"
      ],
      "execution_count": 75,
      "outputs": [
        {
          "output_type": "execute_result",
          "data": {
            "text/plain": [
              "Text(0.5, 1.0, 'Guests with most appearances')"
            ]
          },
          "metadata": {
            "tags": []
          },
          "execution_count": 75
        },
        {
          "output_type": "display_data",
          "data": {
            "image/png": "[encoded data removed]",
            "text/plain": [
              "<Figure size 432x288 with 1 Axes>"
            ]
          },
          "metadata": {
            "tags": []
          }
        }
      ]
    }
  ]
}